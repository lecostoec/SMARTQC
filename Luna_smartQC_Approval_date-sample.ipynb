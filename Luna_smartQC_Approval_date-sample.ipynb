{
 "cells": [
  {
   "cell_type": "code",
   "execution_count": 1,
   "id": "3316bae7-fa89-4a6e-becc-6f5ac6b5694b",
   "metadata": {},
   "outputs": [
    {
     "name": "stdout",
     "output_type": "stream",
     "text": [
      "Environment: 'prod'\n"
     ]
    }
   ],
   "source": [
    "import pandas as pd\n",
    "import os\n",
    "import awswrangler as wr\n",
    "env = os.environ.get('Environment')\n",
    "print(f\"Environment: {env!r}\")\n"
   ]
  },
  {
   "cell_type": "code",
   "execution_count": 2,
   "id": "65f1d875-4c03-4d36-a1dc-42a630194458",
   "metadata": {
    "tags": []
   },
   "outputs": [],
   "source": [
    "%reload_ext jupyter_dmdg"
   ]
  },
  {
   "cell_type": "code",
   "execution_count": 3,
   "id": "ae87ca14-5ac9-4a4b-871c-3fc06de4cf1e",
   "metadata": {},
   "outputs": [],
   "source": [
    "%%athena_to_df --database f\"{env}-luna-pharma-prepared-data\" --out df_test \n",
    "select ar.group_id, ar.categorie, ar.code_article, ar.libelle,\n",
    "    jh.job_name, jh.sw_no_lot, jh.browse_description, jh.sw_job_type, jh.job_status, \n",
    "    sa.id_numeric, sa.status as sample_status, sa.sample_type, sa.recd_date,\n",
    "    sa.id_text, jh.date_completed,jh.date_authorised,jh.sw_decision,jh.sw_decision_date,jh.sw_decision_id\n",
    "    \n",
    "from sample sa \n",
    "\n",
    "join job_header jh on jh.job_name = sa.job_name\n",
    "join sw_article ar on ar.code_article = jh.sw_article\n",
    "\n",
    "where ar.group_id like 'ARA%'\n",
    "and jh.job_status = 'A'\n",
    "and jh.sw_lot_validation = 'F'\n",
    "and jh.sw_no_lot not like '%FOR%'\n",
    "and from_iso8601_timestamp(jh.date_authorised) BETWEEN current_date - INTERVAL '7' day AND current_date;\n"
   ]
  },
  {
   "cell_type": "code",
   "execution_count": 4,
   "id": "0f8e0808-4ce3-4cb8-b571-d21068a10f30",
   "metadata": {},
   "outputs": [
    {
     "data": {
      "text/html": [
       "<div>\n",
       "<style scoped>\n",
       "    .dataframe tbody tr th:only-of-type {\n",
       "        vertical-align: middle;\n",
       "    }\n",
       "\n",
       "    .dataframe tbody tr th {\n",
       "        vertical-align: top;\n",
       "    }\n",
       "\n",
       "    .dataframe thead th {\n",
       "        text-align: right;\n",
       "    }\n",
       "</style>\n",
       "<table border=\"1\" class=\"dataframe\">\n",
       "  <thead>\n",
       "    <tr style=\"text-align: right;\">\n",
       "      <th></th>\n",
       "      <th>group_id</th>\n",
       "      <th>categorie</th>\n",
       "      <th>code_article</th>\n",
       "      <th>libelle</th>\n",
       "      <th>job_name</th>\n",
       "      <th>sw_no_lot</th>\n",
       "      <th>browse_description</th>\n",
       "      <th>sw_job_type</th>\n",
       "      <th>job_status</th>\n",
       "      <th>id_numeric</th>\n",
       "      <th>sample_status</th>\n",
       "      <th>sample_type</th>\n",
       "      <th>recd_date</th>\n",
       "      <th>id_text</th>\n",
       "      <th>date_completed</th>\n",
       "      <th>date_authorised</th>\n",
       "      <th>sw_decision</th>\n",
       "      <th>sw_decision_date</th>\n",
       "      <th>sw_decision_id</th>\n",
       "    </tr>\n",
       "  </thead>\n",
       "  <tbody>\n",
       "    <tr>\n",
       "      <th>0</th>\n",
       "      <td>ARAMON</td>\n",
       "      <td>PF</td>\n",
       "      <td>ARA_EPUEVM</td>\n",
       "      <td>EAU PURIFIEE</td>\n",
       "      <td>ARA_EPUEVM01-23</td>\n",
       "      <td>01-23</td>\n",
       "      <td>EAU PURIFIEE</td>\n",
       "      <td>PF</td>\n",
       "      <td>A</td>\n",
       "      <td>2582186</td>\n",
       "      <td>A</td>\n",
       "      <td>PF</td>\n",
       "      <td>2022-12-22T10:08:58</td>\n",
       "      <td>Q_ARA_EPUEVM01-23_892</td>\n",
       "      <td>2023-03-07T11:00:41</td>\n",
       "      <td>2023-03-07T11:02:02</td>\n",
       "      <td></td>\n",
       "      <td>2022-12-22T10:08:09</td>\n",
       "      <td></td>\n",
       "    </tr>\n",
       "    <tr>\n",
       "      <th>1</th>\n",
       "      <td>ARAMON</td>\n",
       "      <td>PF</td>\n",
       "      <td>ARA_EPUEVM</td>\n",
       "      <td>EAU PURIFIEE</td>\n",
       "      <td>ARA_EPUEVM01-23</td>\n",
       "      <td>01-23</td>\n",
       "      <td>EAU PURIFIEE</td>\n",
       "      <td>PF</td>\n",
       "      <td>A</td>\n",
       "      <td>2582187</td>\n",
       "      <td>A</td>\n",
       "      <td>PF</td>\n",
       "      <td>2022-12-22T10:09:03</td>\n",
       "      <td>Q_ARA_EPUEVM01-23_893</td>\n",
       "      <td>2023-03-07T11:00:41</td>\n",
       "      <td>2023-03-07T11:02:02</td>\n",
       "      <td></td>\n",
       "      <td>2022-12-22T10:08:09</td>\n",
       "      <td></td>\n",
       "    </tr>\n",
       "    <tr>\n",
       "      <th>2</th>\n",
       "      <td>ARAMON</td>\n",
       "      <td>MP</td>\n",
       "      <td>ARA_639199</td>\n",
       "      <td>AMIODARONE HCL</td>\n",
       "      <td>ARA_63919923AR002</td>\n",
       "      <td>23AR002</td>\n",
       "      <td>AMIODARONE HCL</td>\n",
       "      <td>MP</td>\n",
       "      <td>A</td>\n",
       "      <td>2587162</td>\n",
       "      <td>A</td>\n",
       "      <td>MP</td>\n",
       "      <td>2023-01-09T10:07:13</td>\n",
       "      <td>Q_ARA_63919923AR002_217</td>\n",
       "      <td>2023-03-01T11:09:19</td>\n",
       "      <td>2023-03-03T11:51:37</td>\n",
       "      <td></td>\n",
       "      <td>2023-01-03T13:27:12</td>\n",
       "      <td></td>\n",
       "    </tr>\n",
       "    <tr>\n",
       "      <th>3</th>\n",
       "      <td>ARAMON</td>\n",
       "      <td>MP</td>\n",
       "      <td>ARA_639199</td>\n",
       "      <td>AMIODARONE HCL</td>\n",
       "      <td>ARA_63919923AR002</td>\n",
       "      <td>23AR002</td>\n",
       "      <td>AMIODARONE HCL</td>\n",
       "      <td>MP</td>\n",
       "      <td>A</td>\n",
       "      <td>2587159</td>\n",
       "      <td>A</td>\n",
       "      <td>MP</td>\n",
       "      <td>2023-01-09T10:06:58</td>\n",
       "      <td>Q_ARA_63919923AR002_215</td>\n",
       "      <td>2023-03-01T11:09:19</td>\n",
       "      <td>2023-03-03T11:51:37</td>\n",
       "      <td></td>\n",
       "      <td>2023-01-03T13:27:12</td>\n",
       "      <td></td>\n",
       "    </tr>\n",
       "    <tr>\n",
       "      <th>4</th>\n",
       "      <td>ARAMON</td>\n",
       "      <td>MP</td>\n",
       "      <td>ARA_639199</td>\n",
       "      <td>AMIODARONE HCL</td>\n",
       "      <td>ARA_63919923AR002</td>\n",
       "      <td>23AR002</td>\n",
       "      <td>AMIODARONE HCL</td>\n",
       "      <td>MP</td>\n",
       "      <td>A</td>\n",
       "      <td>2587160</td>\n",
       "      <td>A</td>\n",
       "      <td>MP</td>\n",
       "      <td>2023-01-09T10:07:09</td>\n",
       "      <td>Q_ARA_63919923AR002_216</td>\n",
       "      <td>2023-03-01T11:09:19</td>\n",
       "      <td>2023-03-03T11:51:37</td>\n",
       "      <td></td>\n",
       "      <td>2023-01-03T13:27:12</td>\n",
       "      <td></td>\n",
       "    </tr>\n",
       "  </tbody>\n",
       "</table>\n",
       "</div>"
      ],
      "text/plain": [
       "  group_id categorie code_article         libelle           job_name  \\\n",
       "0   ARAMON        PF   ARA_EPUEVM    EAU PURIFIEE    ARA_EPUEVM01-23   \n",
       "1   ARAMON        PF   ARA_EPUEVM    EAU PURIFIEE    ARA_EPUEVM01-23   \n",
       "2   ARAMON        MP   ARA_639199  AMIODARONE HCL  ARA_63919923AR002   \n",
       "3   ARAMON        MP   ARA_639199  AMIODARONE HCL  ARA_63919923AR002   \n",
       "4   ARAMON        MP   ARA_639199  AMIODARONE HCL  ARA_63919923AR002   \n",
       "\n",
       "  sw_no_lot browse_description sw_job_type job_status  id_numeric  \\\n",
       "0     01-23       EAU PURIFIEE          PF          A     2582186   \n",
       "1     01-23       EAU PURIFIEE          PF          A     2582187   \n",
       "2   23AR002     AMIODARONE HCL          MP          A     2587162   \n",
       "3   23AR002     AMIODARONE HCL          MP          A     2587159   \n",
       "4   23AR002     AMIODARONE HCL          MP          A     2587160   \n",
       "\n",
       "  sample_status sample_type            recd_date                  id_text  \\\n",
       "0             A          PF  2022-12-22T10:08:58    Q_ARA_EPUEVM01-23_892   \n",
       "1             A          PF  2022-12-22T10:09:03    Q_ARA_EPUEVM01-23_893   \n",
       "2             A          MP  2023-01-09T10:07:13  Q_ARA_63919923AR002_217   \n",
       "3             A          MP  2023-01-09T10:06:58  Q_ARA_63919923AR002_215   \n",
       "4             A          MP  2023-01-09T10:07:09  Q_ARA_63919923AR002_216   \n",
       "\n",
       "        date_completed      date_authorised sw_decision     sw_decision_date  \\\n",
       "0  2023-03-07T11:00:41  2023-03-07T11:02:02              2022-12-22T10:08:09   \n",
       "1  2023-03-07T11:00:41  2023-03-07T11:02:02              2022-12-22T10:08:09   \n",
       "2  2023-03-01T11:09:19  2023-03-03T11:51:37              2023-01-03T13:27:12   \n",
       "3  2023-03-01T11:09:19  2023-03-03T11:51:37              2023-01-03T13:27:12   \n",
       "4  2023-03-01T11:09:19  2023-03-03T11:51:37              2023-01-03T13:27:12   \n",
       "\n",
       "   sw_decision_id  \n",
       "0                  \n",
       "1                  \n",
       "2                  \n",
       "3                  \n",
       "4                  "
      ]
     },
     "execution_count": 4,
     "metadata": {},
     "output_type": "execute_result"
    }
   ],
   "source": [
    "df_test.head(5)"
   ]
  },
  {
   "cell_type": "code",
   "execution_count": 5,
   "id": "038761d2-823a-4558-9787-983a400e6a53",
   "metadata": {},
   "outputs": [],
   "source": [
    "database_name = f'prod-dmdg-workspace-public-aramon-smartqc-approval-20230113150753781'"
   ]
  },
  {
   "cell_type": "code",
   "execution_count": 6,
   "id": "fff2697b-fb1b-4191-92e6-320936496247",
   "metadata": {},
   "outputs": [],
   "source": [
    "table_name = f'{env}_ARA_luna_smartqc_Approval'"
   ]
  },
  {
   "cell_type": "code",
   "execution_count": 7,
   "id": "8774d6b5-1fff-4f6f-acdc-14c3213eb0ca",
   "metadata": {},
   "outputs": [],
   "source": [
    "path = f's3://sanofi-datalake-dmdg-workspaces-prod/public-aramon-smartqc-approval-20230113150753781'"
   ]
  },
  {
   "cell_type": "code",
   "execution_count": 8,
   "id": "428fb68c-442d-4f2d-93de-a3d8cab265e3",
   "metadata": {},
   "outputs": [],
   "source": [
    "workspace_prefix =f'public-aramon-smartqc-approval-20230113150753781'"
   ]
  },
  {
   "cell_type": "code",
   "execution_count": 9,
   "id": "ebd1ef70-f632-40cf-a0ae-0664fa8d5c6e",
   "metadata": {},
   "outputs": [
    {
     "data": {
      "text/plain": [
       "{'paths': ['s3://sanofi-datalake-dmdg-workspaces-prod/public-aramon-smartqc-approval-20230113150753781/eca23d1e86fe457c90a2cfa0cd346911.parquet'],\n",
       " 'partitions_values': {}}"
      ]
     },
     "execution_count": 9,
     "metadata": {},
     "output_type": "execute_result"
    }
   ],
   "source": [
    "wr.s3.to_parquet(\n",
    "    df=df_test,\n",
    "    path=path,\n",
    "    database=database_name,\n",
    "    dataset=True,\n",
    "    table=table_name,\n",
    "    mode='overwrite',\n",
    "    index=False,\n",
    "    compression=None,\n",
    ")"
   ]
  },
  {
   "cell_type": "code",
   "execution_count": 10,
   "id": "565b0aac-4719-4f08-a60d-5b54cded3171",
   "metadata": {},
   "outputs": [
    {
     "data": {
      "text/plain": [
       "(188, 19)"
      ]
     },
     "execution_count": 10,
     "metadata": {},
     "output_type": "execute_result"
    }
   ],
   "source": [
    "df_test.shape"
   ]
  }
 ],
 "metadata": {
  "kernelspec": {
   "display_name": "Python 3",
   "language": "python",
   "name": "python3"
  },
  "language_info": {
   "codemirror_mode": {
    "name": "ipython",
    "version": 3
   },
   "file_extension": ".py",
   "mimetype": "text/x-python",
   "name": "python",
   "nbconvert_exporter": "python",
   "pygments_lexer": "ipython3",
   "version": "3.9.2"
  }
 },
 "nbformat": 4,
 "nbformat_minor": 5
}
