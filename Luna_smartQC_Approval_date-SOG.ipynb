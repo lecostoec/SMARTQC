{
 "cells": [
  {
   "cell_type": "code",
   "execution_count": 1,
   "id": "3316bae7-fa89-4a6e-becc-6f5ac6b5694b",
   "metadata": {},
   "outputs": [
    {
     "name": "stdout",
     "output_type": "stream",
     "text": [
      "Environment: 'prod'\n"
     ]
    }
   ],
   "source": [
    "import pandas as pd\n",
    "import os\n",
    "import awswrangler as wr\n",
    "env = os.environ.get('Environment')\n",
    "print(f\"Environment: {env!r}\")\n"
   ]
  },
  {
   "cell_type": "code",
   "execution_count": 2,
   "id": "65f1d875-4c03-4d36-a1dc-42a630194458",
   "metadata": {
    "tags": []
   },
   "outputs": [],
   "source": [
    "%reload_ext jupyter_dmdg"
   ]
  },
  {
   "cell_type": "code",
   "execution_count": 3,
   "id": "ae87ca14-5ac9-4a4b-871c-3fc06de4cf1e",
   "metadata": {},
   "outputs": [],
   "source": [
    "%%athena_to_df --database f\"{env}-luna-pharma-prepared-data\" --out df_test \n",
    "select ar.group_id, ar.categorie, ar.code_article, ar.libelle,\n",
    "    jh.job_name, jh.sw_no_lot, jh.browse_description, jh.sw_job_type, jh.job_status, \n",
    "    sa.id_numeric, sa.status as sample_status, sa.sample_type, sa.date_authorised, sa.authorisation_notes,sa.sw_conformite,\n",
    "    sa.id_text,sa.sw_reac_date_liv\n",
    "\n",
    "from sample sa \n",
    "\n",
    "join job_header jh on jh.job_name = sa.job_name\n",
    "join sw_article ar on ar.code_article = jh.sw_article\n",
    "\n",
    "\n",
    "where ar.group_id like 'ARA%'\n",
    "and jh.sw_job_type ='SOG'\n",
    "and jh.sw_lot_validation = 'F'\n",
    "and jh.sw_no_lot not like '%FOR%'\n",
    "and from_iso8601_timestamp(sa.sw_reac_date_liv) BETWEEN current_date - INTERVAL '7' day AND current_date;\n"
   ]
  },
  {
   "cell_type": "code",
   "execution_count": 4,
   "id": "0f8e0808-4ce3-4cb8-b571-d21068a10f30",
   "metadata": {},
   "outputs": [
    {
     "data": {
      "text/html": [
       "<div>\n",
       "<style scoped>\n",
       "    .dataframe tbody tr th:only-of-type {\n",
       "        vertical-align: middle;\n",
       "    }\n",
       "\n",
       "    .dataframe tbody tr th {\n",
       "        vertical-align: top;\n",
       "    }\n",
       "\n",
       "    .dataframe thead th {\n",
       "        text-align: right;\n",
       "    }\n",
       "</style>\n",
       "<table border=\"1\" class=\"dataframe\">\n",
       "  <thead>\n",
       "    <tr style=\"text-align: right;\">\n",
       "      <th></th>\n",
       "      <th>group_id</th>\n",
       "      <th>categorie</th>\n",
       "      <th>code_article</th>\n",
       "      <th>libelle</th>\n",
       "      <th>job_name</th>\n",
       "      <th>sw_no_lot</th>\n",
       "      <th>browse_description</th>\n",
       "      <th>sw_job_type</th>\n",
       "      <th>job_status</th>\n",
       "      <th>id_numeric</th>\n",
       "      <th>sample_status</th>\n",
       "      <th>sample_type</th>\n",
       "      <th>date_authorised</th>\n",
       "      <th>authorisation_notes</th>\n",
       "      <th>sw_conformite</th>\n",
       "      <th>id_text</th>\n",
       "      <th>sw_reac_date_liv</th>\n",
       "    </tr>\n",
       "  </thead>\n",
       "  <tbody>\n",
       "    <tr>\n",
       "      <th>0</th>\n",
       "      <td>ARAMON</td>\n",
       "      <td>PF</td>\n",
       "      <td>ARA_666341</td>\n",
       "      <td>IRBESARTAN VOIE DIRECTE</td>\n",
       "      <td>ARA_666341_2019_04</td>\n",
       "      <td>9AR0143</td>\n",
       "      <td>Job created on 19-NOV-2019 10:50 by CUERQ usin...</td>\n",
       "      <td>SOG</td>\n",
       "      <td>C</td>\n",
       "      <td>2556218</td>\n",
       "      <td>A</td>\n",
       "      <td>SOG</td>\n",
       "      <td>2023-02-03T11:50:58</td>\n",
       "      <td>ras</td>\n",
       "      <td>A</td>\n",
       "      <td>S-ARA_666341_2019_04-444</td>\n",
       "      <td>2023-02-03T11:51:44</td>\n",
       "    </tr>\n",
       "    <tr>\n",
       "      <th>1</th>\n",
       "      <td>ARAMON</td>\n",
       "      <td>PF</td>\n",
       "      <td>ARA_666341</td>\n",
       "      <td>IRBESARTAN VOIE DIRECTE</td>\n",
       "      <td>ARA_666341_2019_04</td>\n",
       "      <td>9AR0143</td>\n",
       "      <td>Job created on 19-NOV-2019 10:50 by CUERQ usin...</td>\n",
       "      <td>SOG</td>\n",
       "      <td>C</td>\n",
       "      <td>2556219</td>\n",
       "      <td>A</td>\n",
       "      <td>SOG</td>\n",
       "      <td>2022-12-01T10:51:40</td>\n",
       "      <td>CONFORME - Validation automatique - sw_back_csmlp</td>\n",
       "      <td>A</td>\n",
       "      <td>S-ARA_666341_2019_04-451</td>\n",
       "      <td>2023-02-03T11:51:44</td>\n",
       "    </tr>\n",
       "    <tr>\n",
       "      <th>2</th>\n",
       "      <td>ARAMON</td>\n",
       "      <td>PF</td>\n",
       "      <td>ARA_187859</td>\n",
       "      <td>CHLORHYDRATE AMIODARONE (PA)</td>\n",
       "      <td>ARA_187859_2020_07</td>\n",
       "      <td>AAR0114</td>\n",
       "      <td>Job created on  1-DEC-2020 10:47 by CUERQ usin...</td>\n",
       "      <td>SOG</td>\n",
       "      <td>C</td>\n",
       "      <td>2566380</td>\n",
       "      <td>A</td>\n",
       "      <td>SOG</td>\n",
       "      <td>2023-02-03T16:16:32</td>\n",
       "      <td></td>\n",
       "      <td>A</td>\n",
       "      <td>S-ARA_187859_2020_07-843</td>\n",
       "      <td>2023-02-03T16:17:45</td>\n",
       "    </tr>\n",
       "    <tr>\n",
       "      <th>3</th>\n",
       "      <td>ARAMON</td>\n",
       "      <td>PF</td>\n",
       "      <td>ARA_241575</td>\n",
       "      <td>NALBUPHINE CHLORHYDRATE</td>\n",
       "      <td>ARA_241575ICH_2019_01</td>\n",
       "      <td>9AR0001</td>\n",
       "      <td>Job created on 19-JUL-2019 09:28 by CUERQ usin...</td>\n",
       "      <td>SOG</td>\n",
       "      <td>V</td>\n",
       "      <td>2462784</td>\n",
       "      <td>A</td>\n",
       "      <td>SOG</td>\n",
       "      <td>2023-02-08T15:20:03</td>\n",
       "      <td>2021-CHIMIE-OOS-117</td>\n",
       "      <td>R</td>\n",
       "      <td>S-ARA_241575ICH_2019_01-795</td>\n",
       "      <td>2023-02-08T15:22:01</td>\n",
       "    </tr>\n",
       "    <tr>\n",
       "      <th>4</th>\n",
       "      <td>ARAMON</td>\n",
       "      <td>PF</td>\n",
       "      <td>ARA_241575</td>\n",
       "      <td>NALBUPHINE CHLORHYDRATE</td>\n",
       "      <td>ARA_241575ICH_2019_01</td>\n",
       "      <td>9AR0001</td>\n",
       "      <td>Job created on 19-JUL-2019 09:28 by CUERQ usin...</td>\n",
       "      <td>SOG</td>\n",
       "      <td>V</td>\n",
       "      <td>2462785</td>\n",
       "      <td>A</td>\n",
       "      <td>SOG</td>\n",
       "      <td>2022-12-01T14:31:53</td>\n",
       "      <td>CONFORME - Validation automatique - sw_back_csmlp</td>\n",
       "      <td>A</td>\n",
       "      <td>S-ARA_241575ICH_2019_01-805</td>\n",
       "      <td>2023-02-08T15:22:01</td>\n",
       "    </tr>\n",
       "  </tbody>\n",
       "</table>\n",
       "</div>"
      ],
      "text/plain": [
       "  group_id categorie code_article                       libelle  \\\n",
       "0   ARAMON        PF   ARA_666341       IRBESARTAN VOIE DIRECTE   \n",
       "1   ARAMON        PF   ARA_666341       IRBESARTAN VOIE DIRECTE   \n",
       "2   ARAMON        PF   ARA_187859  CHLORHYDRATE AMIODARONE (PA)   \n",
       "3   ARAMON        PF   ARA_241575       NALBUPHINE CHLORHYDRATE   \n",
       "4   ARAMON        PF   ARA_241575       NALBUPHINE CHLORHYDRATE   \n",
       "\n",
       "                job_name sw_no_lot  \\\n",
       "0     ARA_666341_2019_04   9AR0143   \n",
       "1     ARA_666341_2019_04   9AR0143   \n",
       "2     ARA_187859_2020_07   AAR0114   \n",
       "3  ARA_241575ICH_2019_01   9AR0001   \n",
       "4  ARA_241575ICH_2019_01   9AR0001   \n",
       "\n",
       "                                  browse_description sw_job_type job_status  \\\n",
       "0  Job created on 19-NOV-2019 10:50 by CUERQ usin...         SOG          C   \n",
       "1  Job created on 19-NOV-2019 10:50 by CUERQ usin...         SOG          C   \n",
       "2  Job created on  1-DEC-2020 10:47 by CUERQ usin...         SOG          C   \n",
       "3  Job created on 19-JUL-2019 09:28 by CUERQ usin...         SOG          V   \n",
       "4  Job created on 19-JUL-2019 09:28 by CUERQ usin...         SOG          V   \n",
       "\n",
       "   id_numeric sample_status sample_type      date_authorised  \\\n",
       "0     2556218             A         SOG  2023-02-03T11:50:58   \n",
       "1     2556219             A         SOG  2022-12-01T10:51:40   \n",
       "2     2566380             A         SOG  2023-02-03T16:16:32   \n",
       "3     2462784             A         SOG  2023-02-08T15:20:03   \n",
       "4     2462785             A         SOG  2022-12-01T14:31:53   \n",
       "\n",
       "                                 authorisation_notes sw_conformite  \\\n",
       "0                                                ras             A   \n",
       "1  CONFORME - Validation automatique - sw_back_csmlp             A   \n",
       "2                                                                A   \n",
       "3                                2021-CHIMIE-OOS-117             R   \n",
       "4  CONFORME - Validation automatique - sw_back_csmlp             A   \n",
       "\n",
       "                       id_text     sw_reac_date_liv  \n",
       "0     S-ARA_666341_2019_04-444  2023-02-03T11:51:44  \n",
       "1     S-ARA_666341_2019_04-451  2023-02-03T11:51:44  \n",
       "2     S-ARA_187859_2020_07-843  2023-02-03T16:17:45  \n",
       "3  S-ARA_241575ICH_2019_01-795  2023-02-08T15:22:01  \n",
       "4  S-ARA_241575ICH_2019_01-805  2023-02-08T15:22:01  "
      ]
     },
     "execution_count": 4,
     "metadata": {},
     "output_type": "execute_result"
    }
   ],
   "source": [
    "df_test.head(5)"
   ]
  },
  {
   "cell_type": "code",
   "execution_count": 5,
   "id": "038761d2-823a-4558-9787-983a400e6a53",
   "metadata": {},
   "outputs": [],
   "source": [
    "database_name = f'prod-dmdg-workspace-public-aramon-smartqc-approval-sog-20230210103512425'"
   ]
  },
  {
   "cell_type": "code",
   "execution_count": 6,
   "id": "fff2697b-fb1b-4191-92e6-320936496247",
   "metadata": {},
   "outputs": [],
   "source": [
    "table_name = f'{env}_ARA_luna_smartqc_Approval-SOG'"
   ]
  },
  {
   "cell_type": "code",
   "execution_count": 7,
   "id": "8774d6b5-1fff-4f6f-acdc-14c3213eb0ca",
   "metadata": {},
   "outputs": [],
   "source": [
    "path = f's3://sanofi-datalake-dmdg-workspaces-prod/public-aramon-smartqc-approval-sog-20230210103512425'"
   ]
  },
  {
   "cell_type": "code",
   "execution_count": 8,
   "id": "428fb68c-442d-4f2d-93de-a3d8cab265e3",
   "metadata": {},
   "outputs": [],
   "source": [
    "workspace_prefix =f'public-aramon-smartqc-approval-sog-20230210103512425'"
   ]
  },
  {
   "cell_type": "code",
   "execution_count": 9,
   "id": "ebd1ef70-f632-40cf-a0ae-0664fa8d5c6e",
   "metadata": {},
   "outputs": [
    {
     "data": {
      "text/plain": [
       "{'paths': ['s3://sanofi-datalake-dmdg-workspaces-prod/public-aramon-smartqc-approval-sog-20230210103512425/f3f6dbbdc9994359a6087eff9226825f.parquet'],\n",
       " 'partitions_values': {}}"
      ]
     },
     "execution_count": 9,
     "metadata": {},
     "output_type": "execute_result"
    }
   ],
   "source": [
    "wr.s3.to_parquet(\n",
    "    df=df_test,\n",
    "    path=path,\n",
    "    database=database_name,\n",
    "    dataset=True,\n",
    "    table=table_name,\n",
    "    mode='overwrite',\n",
    "    index=False,\n",
    "    compression=None,\n",
    ")"
   ]
  },
  {
   "cell_type": "code",
   "execution_count": 10,
   "id": "565b0aac-4719-4f08-a60d-5b54cded3171",
   "metadata": {},
   "outputs": [
    {
     "data": {
      "text/plain": [
       "(25, 17)"
      ]
     },
     "execution_count": 10,
     "metadata": {},
     "output_type": "execute_result"
    }
   ],
   "source": [
    "df_test.shape"
   ]
  }
 ],
 "metadata": {
  "kernelspec": {
   "display_name": "Python 3",
   "language": "python",
   "name": "python3"
  },
  "language_info": {
   "codemirror_mode": {
    "name": "ipython",
    "version": 3
   },
   "file_extension": ".py",
   "mimetype": "text/x-python",
   "name": "python",
   "nbconvert_exporter": "python",
   "pygments_lexer": "ipython3",
   "version": "3.9.2"
  }
 },
 "nbformat": 4,
 "nbformat_minor": 5
}
