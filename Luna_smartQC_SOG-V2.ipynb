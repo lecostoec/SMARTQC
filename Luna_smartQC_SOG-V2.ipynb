{
 "cells": [
  {
   "cell_type": "code",
   "execution_count": 1,
   "id": "3316bae7-fa89-4a6e-becc-6f5ac6b5694b",
   "metadata": {},
   "outputs": [
    {
     "name": "stdout",
     "output_type": "stream",
     "text": [
      "Environment: 'prod'\n"
     ]
    }
   ],
   "source": [
    "import pandas as pd\n",
    "import os\n",
    "import awswrangler as wr\n",
    "env = os.environ.get('Environment')\n",
    "print(f\"Environment: {env!r}\")\n"
   ]
  },
  {
   "cell_type": "code",
   "execution_count": 2,
   "id": "65f1d875-4c03-4d36-a1dc-42a630194458",
   "metadata": {
    "tags": []
   },
   "outputs": [],
   "source": [
    "%reload_ext jupyter_dmdg"
   ]
  },
  {
   "cell_type": "code",
   "execution_count": 3,
   "id": "ae87ca14-5ac9-4a4b-871c-3fc06de4cf1e",
   "metadata": {},
   "outputs": [],
   "source": [
    "%%athena_to_df --database f\"{env}-luna-pharma-prepared-data\" --out df_test \n",
    "select \tjh.job_name, jh.sw_job_type,sa.recd_date, sa.c_factor, sa.time_factor, \n",
    "\t\tsa.status as sample_status, sa.sw_date_creation,sa.id_text,\n",
    "   \n",
    "     pds.due_login_date\n",
    "from job_header jh \n",
    "\n",
    "join sample sa on sa.job_name = jh.job_name\n",
    "join  pds_study_pull pds on sa.id_text=pds.sample_id_text\n",
    "\n",
    "where jh.group_id like 'ARA%'\n",
    "and jh.job_status <> 'A'\n",
    "and jh.sw_lot_validation = 'F'\n",
    "and sa.status <> 'U' and sa.status <> 'A'\n",
    "and from_iso8601_timestamp(sa.recd_date) BETWEEN current_date - INTERVAL '1' day AND current_date\n",
    "and jh.sw_no_lot not like '%FOR%'\n",
    "and jh.sw_job_type = 'SOG';\n"
   ]
  },
  {
   "cell_type": "code",
   "execution_count": 4,
   "id": "0f8e0808-4ce3-4cb8-b571-d21068a10f30",
   "metadata": {},
   "outputs": [
    {
     "data": {
      "text/html": [
       "<div>\n",
       "<style scoped>\n",
       "    .dataframe tbody tr th:only-of-type {\n",
       "        vertical-align: middle;\n",
       "    }\n",
       "\n",
       "    .dataframe tbody tr th {\n",
       "        vertical-align: top;\n",
       "    }\n",
       "\n",
       "    .dataframe thead th {\n",
       "        text-align: right;\n",
       "    }\n",
       "</style>\n",
       "<table border=\"1\" class=\"dataframe\">\n",
       "  <thead>\n",
       "    <tr style=\"text-align: right;\">\n",
       "      <th></th>\n",
       "      <th>job_name</th>\n",
       "      <th>sw_job_type</th>\n",
       "      <th>recd_date</th>\n",
       "      <th>c_factor</th>\n",
       "      <th>time_factor</th>\n",
       "      <th>sample_status</th>\n",
       "      <th>sw_date_creation</th>\n",
       "      <th>id_text</th>\n",
       "      <th>due_login_date</th>\n",
       "    </tr>\n",
       "  </thead>\n",
       "  <tbody>\n",
       "    <tr>\n",
       "      <th>0</th>\n",
       "      <td>ARA_362671_2023_01</td>\n",
       "      <td>SOG</td>\n",
       "      <td>2024-06-12T15:14:02</td>\n",
       "      <td>ARA_-20_RUCO</td>\n",
       "      <td>ARA_9M</td>\n",
       "      <td>V</td>\n",
       "      <td>2024-06-12T15:10:40</td>\n",
       "      <td>S-ARA_362671_2023_01-475</td>\n",
       "      <td>2024-06-12T15:10:42</td>\n",
       "    </tr>\n",
       "    <tr>\n",
       "      <th>1</th>\n",
       "      <td>ARA_362671_2023_01</td>\n",
       "      <td>SOG</td>\n",
       "      <td>2024-06-12T14:07:23</td>\n",
       "      <td>ARA_2-8DEGRE</td>\n",
       "      <td>ARA_9M</td>\n",
       "      <td>V</td>\n",
       "      <td>2024-06-08T00:02:52</td>\n",
       "      <td>S-ARA_362671_2023_01-476</td>\n",
       "      <td>2024-06-08T00:02:54</td>\n",
       "    </tr>\n",
       "    <tr>\n",
       "      <th>2</th>\n",
       "      <td>ARA_362671PE_2023_01</td>\n",
       "      <td>SOG</td>\n",
       "      <td>2024-06-12T14:43:34</td>\n",
       "      <td>ARA_2-8DEGRE</td>\n",
       "      <td>ARA_9M</td>\n",
       "      <td>V</td>\n",
       "      <td>2024-06-08T00:04:33</td>\n",
       "      <td>S-ARA_362671PE_2023_01-488</td>\n",
       "      <td>2024-06-08T00:04:34</td>\n",
       "    </tr>\n",
       "    <tr>\n",
       "      <th>3</th>\n",
       "      <td>ARA_362671PE_2023_01</td>\n",
       "      <td>SOG</td>\n",
       "      <td>2024-06-12T14:27:37</td>\n",
       "      <td>ARA_-20_RUCO</td>\n",
       "      <td>ARA_9M</td>\n",
       "      <td>V</td>\n",
       "      <td>2024-06-08T00:04:28</td>\n",
       "      <td>S-ARA_362671PE_2023_01-487</td>\n",
       "      <td>2024-06-08T00:04:29</td>\n",
       "    </tr>\n",
       "  </tbody>\n",
       "</table>\n",
       "</div>"
      ],
      "text/plain": [
       "               job_name sw_job_type            recd_date      c_factor  \\\n",
       "0    ARA_362671_2023_01         SOG  2024-06-12T15:14:02  ARA_-20_RUCO   \n",
       "1    ARA_362671_2023_01         SOG  2024-06-12T14:07:23  ARA_2-8DEGRE   \n",
       "2  ARA_362671PE_2023_01         SOG  2024-06-12T14:43:34  ARA_2-8DEGRE   \n",
       "3  ARA_362671PE_2023_01         SOG  2024-06-12T14:27:37  ARA_-20_RUCO   \n",
       "\n",
       "  time_factor sample_status     sw_date_creation                     id_text  \\\n",
       "0      ARA_9M             V  2024-06-12T15:10:40    S-ARA_362671_2023_01-475   \n",
       "1      ARA_9M             V  2024-06-08T00:02:52    S-ARA_362671_2023_01-476   \n",
       "2      ARA_9M             V  2024-06-08T00:04:33  S-ARA_362671PE_2023_01-488   \n",
       "3      ARA_9M             V  2024-06-08T00:04:28  S-ARA_362671PE_2023_01-487   \n",
       "\n",
       "        due_login_date  \n",
       "0  2024-06-12T15:10:42  \n",
       "1  2024-06-08T00:02:54  \n",
       "2  2024-06-08T00:04:34  \n",
       "3  2024-06-08T00:04:29  "
      ]
     },
     "execution_count": 4,
     "metadata": {},
     "output_type": "execute_result"
    }
   ],
   "source": [
    "df_test.head(15)"
   ]
  },
  {
   "cell_type": "code",
   "execution_count": 5,
   "id": "038761d2-823a-4558-9787-983a400e6a53",
   "metadata": {},
   "outputs": [],
   "source": [
    "database_name = f'prod-dmdg-workspace-public-aramon-smartqc-sog-20221021125055926'"
   ]
  },
  {
   "cell_type": "code",
   "execution_count": 6,
   "id": "fff2697b-fb1b-4191-92e6-320936496247",
   "metadata": {},
   "outputs": [],
   "source": [
    "table_name = f'{env}_ARA_luna_smartqc_sog'"
   ]
  },
  {
   "cell_type": "code",
   "execution_count": 7,
   "id": "8774d6b5-1fff-4f6f-acdc-14c3213eb0ca",
   "metadata": {},
   "outputs": [],
   "source": [
    "path = f's3://sanofi-datalake-dmdg-workspaces-prod/public-aramon-smartqc-sog-20221021125055926'"
   ]
  },
  {
   "cell_type": "code",
   "execution_count": 8,
   "id": "428fb68c-442d-4f2d-93de-a3d8cab265e3",
   "metadata": {},
   "outputs": [],
   "source": [
    "workspace_prefix =f'public-aramon-smartqc-sog-20221021125055926'"
   ]
  },
  {
   "cell_type": "code",
   "execution_count": 9,
   "id": "ebd1ef70-f632-40cf-a0ae-0664fa8d5c6e",
   "metadata": {},
   "outputs": [
    {
     "data": {
      "text/plain": [
       "{'paths': ['s3://sanofi-datalake-dmdg-workspaces-prod/public-aramon-smartqc-sog-20221021125055926/b0fff926487945399fdb47eb5785f767.parquet'],\n",
       " 'partitions_values': {}}"
      ]
     },
     "execution_count": 9,
     "metadata": {},
     "output_type": "execute_result"
    }
   ],
   "source": [
    "wr.s3.to_parquet(\n",
    "    df=df_test,\n",
    "    path=path,\n",
    "    database=database_name,\n",
    "    dataset=True,\n",
    "    table=table_name,\n",
    "    mode='overwrite',\n",
    "    index=False,\n",
    "    compression=None,\n",
    ")"
   ]
  },
  {
   "cell_type": "code",
   "execution_count": 10,
   "id": "565b0aac-4719-4f08-a60d-5b54cded3171",
   "metadata": {},
   "outputs": [
    {
     "data": {
      "text/plain": [
       "(4, 9)"
      ]
     },
     "execution_count": 10,
     "metadata": {},
     "output_type": "execute_result"
    }
   ],
   "source": [
    "df_test.shape"
   ]
  },
  {
   "cell_type": "code",
   "execution_count": null,
   "id": "512078b9-aafc-4590-ab19-0fe0c83803d8",
   "metadata": {},
   "outputs": [],
   "source": []
  }
 ],
 "metadata": {
  "kernelspec": {
   "display_name": "Python 3",
   "language": "python",
   "name": "python3"
  },
  "language_info": {
   "codemirror_mode": {
    "name": "ipython",
    "version": 3
   },
   "file_extension": ".py",
   "mimetype": "text/x-python",
   "name": "python",
   "nbconvert_exporter": "python",
   "pygments_lexer": "ipython3",
   "version": "3.9.2"
  }
 },
 "nbformat": 4,
 "nbformat_minor": 5
}
