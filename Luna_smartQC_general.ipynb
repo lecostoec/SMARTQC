{
 "cells": [
  {
   "cell_type": "code",
   "execution_count": 1,
   "id": "3316bae7-fa89-4a6e-becc-6f5ac6b5694b",
   "metadata": {
    "tags": []
   },
   "outputs": [
    {
     "name": "stdout",
     "output_type": "stream",
     "text": [
      "Environment: 'prod'\n"
     ]
    }
   ],
   "source": [
    "import pandas as pd\n",
    "import os\n",
    "import awswrangler as wr\n",
    "env = os.environ.get('Environment')\n",
    "print(f\"Environment: {env!r}\")\n"
   ]
  },
  {
   "cell_type": "code",
   "execution_count": 2,
   "id": "65f1d875-4c03-4d36-a1dc-42a630194458",
   "metadata": {
    "tags": []
   },
   "outputs": [],
   "source": [
    "%reload_ext jupyter_dmdg"
   ]
  },
  {
   "cell_type": "code",
   "execution_count": 3,
   "id": "ae87ca14-5ac9-4a4b-871c-3fc06de4cf1e",
   "metadata": {},
   "outputs": [],
   "source": [
    "%%athena_to_df --database f\"{env}-luna-pharma-prepared-data\" --out df_test \n",
    "select * from (select ar.group_id, ar.categorie, ar.code_article, ar.libelle,\n",
    "    jh.job_name, jh.sw_no_lot, jh.browse_description, jh.sw_job_type, jh.job_status, \n",
    "    sa.id_numeric, sa.status as sample_status, sa.sample_type, sa.recd_date,\n",
    "    te.analysis, te.test_number, sa.id_text, te.status\n",
    "from test te            \n",
    "join sample sa on sa.id_numeric = te.sample\n",
    "join job_header jh on jh.job_name = sa.job_name\n",
    "join sw_article ar on ar.code_article = jh.sw_article\n",
    "where ar.group_id like 'ARA%'\n",
    "and jh.sw_lot_validation = 'F'\n",
    "and jh.sw_no_lot not like '%FOR%'\n",
    "and sa.status <> 'U'\n",
    "and from_iso8601_timestamp(sa.recd_date) BETWEEN current_date - INTERVAL '1' day AND current_date\n",
    "and te.analysis <> 'DBL_ENTRY');"
   ]
  },
  {
   "cell_type": "code",
   "execution_count": 4,
   "id": "0f8e0808-4ce3-4cb8-b571-d21068a10f30",
   "metadata": {},
   "outputs": [
    {
     "data": {
      "text/html": [
       "<div>\n",
       "<style scoped>\n",
       "    .dataframe tbody tr th:only-of-type {\n",
       "        vertical-align: middle;\n",
       "    }\n",
       "\n",
       "    .dataframe tbody tr th {\n",
       "        vertical-align: top;\n",
       "    }\n",
       "\n",
       "    .dataframe thead th {\n",
       "        text-align: right;\n",
       "    }\n",
       "</style>\n",
       "<table border=\"1\" class=\"dataframe\">\n",
       "  <thead>\n",
       "    <tr style=\"text-align: right;\">\n",
       "      <th></th>\n",
       "      <th>group_id</th>\n",
       "      <th>categorie</th>\n",
       "      <th>code_article</th>\n",
       "      <th>libelle</th>\n",
       "      <th>job_name</th>\n",
       "      <th>sw_no_lot</th>\n",
       "      <th>browse_description</th>\n",
       "      <th>sw_job_type</th>\n",
       "      <th>job_status</th>\n",
       "      <th>id_numeric</th>\n",
       "      <th>sample_status</th>\n",
       "      <th>sample_type</th>\n",
       "      <th>recd_date</th>\n",
       "      <th>analysis</th>\n",
       "      <th>test_number</th>\n",
       "      <th>id_text</th>\n",
       "      <th>status</th>\n",
       "    </tr>\n",
       "  </thead>\n",
       "  <tbody>\n",
       "    <tr>\n",
       "      <th>0</th>\n",
       "      <td>ARAMON</td>\n",
       "      <td>PF</td>\n",
       "      <td>ARA_362671</td>\n",
       "      <td>rhC1 INH Solution API</td>\n",
       "      <td>ARA_362671_2023_01</td>\n",
       "      <td>DAR1035</td>\n",
       "      <td>Job created on 11-SEP-2023 15:06 by SAUVAGE us...</td>\n",
       "      <td>SOG</td>\n",
       "      <td>V</td>\n",
       "      <td>3007041</td>\n",
       "      <td>V</td>\n",
       "      <td>SOG</td>\n",
       "      <td>2024-06-12T15:14:02</td>\n",
       "      <td>ARA_BMREPAR1_2</td>\n",
       "      <td>16353054</td>\n",
       "      <td>S-ARA_362671_2023_01-475</td>\n",
       "      <td>P</td>\n",
       "    </tr>\n",
       "    <tr>\n",
       "      <th>1</th>\n",
       "      <td>ARAMON</td>\n",
       "      <td>PF</td>\n",
       "      <td>ARA_362671</td>\n",
       "      <td>rhC1 INH Solution API</td>\n",
       "      <td>ARA_362671_2023_01</td>\n",
       "      <td>DAR1035</td>\n",
       "      <td>Job created on 11-SEP-2023 15:06 by SAUVAGE us...</td>\n",
       "      <td>SOG</td>\n",
       "      <td>V</td>\n",
       "      <td>3007041</td>\n",
       "      <td>V</td>\n",
       "      <td>SOG</td>\n",
       "      <td>2024-06-12T15:14:02</td>\n",
       "      <td>ARA_VERDATE2_1</td>\n",
       "      <td>16353055</td>\n",
       "      <td>S-ARA_362671_2023_01-475</td>\n",
       "      <td>V</td>\n",
       "    </tr>\n",
       "    <tr>\n",
       "      <th>2</th>\n",
       "      <td>ARAMON</td>\n",
       "      <td>PF</td>\n",
       "      <td>ARA_362671</td>\n",
       "      <td>rhC1 INH Solution API</td>\n",
       "      <td>ARA_362671_2023_01</td>\n",
       "      <td>DAR1035</td>\n",
       "      <td>Job created on 11-SEP-2023 15:06 by SAUVAGE us...</td>\n",
       "      <td>SOG</td>\n",
       "      <td>V</td>\n",
       "      <td>3007041</td>\n",
       "      <td>V</td>\n",
       "      <td>SOG</td>\n",
       "      <td>2024-06-12T15:14:02</td>\n",
       "      <td>ARA_ACASPUS3_2</td>\n",
       "      <td>16353056</td>\n",
       "      <td>S-ARA_362671_2023_01-475</td>\n",
       "      <td>V</td>\n",
       "    </tr>\n",
       "    <tr>\n",
       "      <th>3</th>\n",
       "      <td>ARAMON</td>\n",
       "      <td>PF</td>\n",
       "      <td>ARA_362671</td>\n",
       "      <td>rhC1 INH Solution API</td>\n",
       "      <td>ARA_362671_2023_01</td>\n",
       "      <td>DAR1035</td>\n",
       "      <td>Job created on 11-SEP-2023 15:06 by SAUVAGE us...</td>\n",
       "      <td>SOG</td>\n",
       "      <td>V</td>\n",
       "      <td>3007041</td>\n",
       "      <td>V</td>\n",
       "      <td>SOG</td>\n",
       "      <td>2024-06-12T15:14:02</td>\n",
       "      <td>ARA_REPART6_6</td>\n",
       "      <td>16353057</td>\n",
       "      <td>S-ARA_362671_2023_01-475</td>\n",
       "      <td>P</td>\n",
       "    </tr>\n",
       "    <tr>\n",
       "      <th>4</th>\n",
       "      <td>ARAMON</td>\n",
       "      <td>PF</td>\n",
       "      <td>ARA_362671</td>\n",
       "      <td>rhC1 INH Solution API</td>\n",
       "      <td>ARA_362671_2023_01</td>\n",
       "      <td>DAR1035</td>\n",
       "      <td>Job created on 11-SEP-2023 15:06 by SAUVAGE us...</td>\n",
       "      <td>SOG</td>\n",
       "      <td>V</td>\n",
       "      <td>3007041</td>\n",
       "      <td>V</td>\n",
       "      <td>SOG</td>\n",
       "      <td>2024-06-12T15:14:02</td>\n",
       "      <td>ARA_REPART7_7</td>\n",
       "      <td>16353058</td>\n",
       "      <td>S-ARA_362671_2023_01-475</td>\n",
       "      <td>P</td>\n",
       "    </tr>\n",
       "  </tbody>\n",
       "</table>\n",
       "</div>"
      ],
      "text/plain": [
       "  group_id categorie code_article                libelle            job_name  \\\n",
       "0   ARAMON        PF   ARA_362671  rhC1 INH Solution API  ARA_362671_2023_01   \n",
       "1   ARAMON        PF   ARA_362671  rhC1 INH Solution API  ARA_362671_2023_01   \n",
       "2   ARAMON        PF   ARA_362671  rhC1 INH Solution API  ARA_362671_2023_01   \n",
       "3   ARAMON        PF   ARA_362671  rhC1 INH Solution API  ARA_362671_2023_01   \n",
       "4   ARAMON        PF   ARA_362671  rhC1 INH Solution API  ARA_362671_2023_01   \n",
       "\n",
       "  sw_no_lot                                 browse_description sw_job_type  \\\n",
       "0   DAR1035  Job created on 11-SEP-2023 15:06 by SAUVAGE us...         SOG   \n",
       "1   DAR1035  Job created on 11-SEP-2023 15:06 by SAUVAGE us...         SOG   \n",
       "2   DAR1035  Job created on 11-SEP-2023 15:06 by SAUVAGE us...         SOG   \n",
       "3   DAR1035  Job created on 11-SEP-2023 15:06 by SAUVAGE us...         SOG   \n",
       "4   DAR1035  Job created on 11-SEP-2023 15:06 by SAUVAGE us...         SOG   \n",
       "\n",
       "  job_status  id_numeric sample_status sample_type            recd_date  \\\n",
       "0          V     3007041             V         SOG  2024-06-12T15:14:02   \n",
       "1          V     3007041             V         SOG  2024-06-12T15:14:02   \n",
       "2          V     3007041             V         SOG  2024-06-12T15:14:02   \n",
       "3          V     3007041             V         SOG  2024-06-12T15:14:02   \n",
       "4          V     3007041             V         SOG  2024-06-12T15:14:02   \n",
       "\n",
       "         analysis test_number                   id_text status  \n",
       "0  ARA_BMREPAR1_2    16353054  S-ARA_362671_2023_01-475      P  \n",
       "1  ARA_VERDATE2_1    16353055  S-ARA_362671_2023_01-475      V  \n",
       "2  ARA_ACASPUS3_2    16353056  S-ARA_362671_2023_01-475      V  \n",
       "3   ARA_REPART6_6    16353057  S-ARA_362671_2023_01-475      P  \n",
       "4   ARA_REPART7_7    16353058  S-ARA_362671_2023_01-475      P  "
      ]
     },
     "execution_count": 4,
     "metadata": {},
     "output_type": "execute_result"
    }
   ],
   "source": [
    "df_test.head(5)"
   ]
  },
  {
   "cell_type": "code",
   "execution_count": 5,
   "id": "038761d2-823a-4558-9787-983a400e6a53",
   "metadata": {},
   "outputs": [],
   "source": [
    "database_name = f'prod-dmdg-workspace-public-aramon-smartqc-20221012135705242'"
   ]
  },
  {
   "cell_type": "code",
   "execution_count": 6,
   "id": "fff2697b-fb1b-4191-92e6-320936496247",
   "metadata": {},
   "outputs": [],
   "source": [
    "table_name = f'{env}_ARA_luna_smartqc'"
   ]
  },
  {
   "cell_type": "code",
   "execution_count": 7,
   "id": "8774d6b5-1fff-4f6f-acdc-14c3213eb0ca",
   "metadata": {},
   "outputs": [],
   "source": [
    "path = f's3://sanofi-datalake-dmdg-workspaces-prod/public-aramon-smartqc-20221012135705242'"
   ]
  },
  {
   "cell_type": "code",
   "execution_count": 8,
   "id": "428fb68c-442d-4f2d-93de-a3d8cab265e3",
   "metadata": {},
   "outputs": [],
   "source": [
    "workspace_prefix =f'public-aramon-smartqc-20221012135705242'"
   ]
  },
  {
   "cell_type": "code",
   "execution_count": 9,
   "id": "ebd1ef70-f632-40cf-a0ae-0664fa8d5c6e",
   "metadata": {},
   "outputs": [
    {
     "data": {
      "text/plain": [
       "{'paths': ['s3://sanofi-datalake-dmdg-workspaces-prod/public-aramon-smartqc-20221012135705242/e66a2de2d0f04647b35db56edaa5a102.parquet'],\n",
       " 'partitions_values': {}}"
      ]
     },
     "execution_count": 9,
     "metadata": {},
     "output_type": "execute_result"
    }
   ],
   "source": [
    "wr.s3.to_parquet(\n",
    "    df=df_test,\n",
    "    path=path,\n",
    "    database=database_name,\n",
    "    dataset=True,\n",
    "    table=table_name,\n",
    "    mode='overwrite',\n",
    "    index=False,\n",
    "    compression=None,\n",
    ")"
   ]
  },
  {
   "cell_type": "code",
   "execution_count": 10,
   "id": "b010a495-ea7c-4b8b-a0a7-f31f470a54b7",
   "metadata": {},
   "outputs": [
    {
     "data": {
      "text/plain": [
       "(80, 17)"
      ]
     },
     "execution_count": 10,
     "metadata": {},
     "output_type": "execute_result"
    }
   ],
   "source": [
    "df_test.shape"
   ]
  },
  {
   "cell_type": "code",
   "execution_count": null,
   "id": "64383753-e47d-4747-8e26-fea4744aff6b",
   "metadata": {},
   "outputs": [],
   "source": []
  },
  {
   "cell_type": "code",
   "execution_count": null,
   "id": "7a890d7a-9a74-4b9f-baf8-18a3fdbdc428",
   "metadata": {},
   "outputs": [],
   "source": []
  },
  {
   "cell_type": "code",
   "execution_count": null,
   "id": "9d109e4f-fd51-435d-945f-1932ec89e622",
   "metadata": {},
   "outputs": [],
   "source": []
  }
 ],
 "metadata": {
  "kernelspec": {
   "display_name": "Python 3",
   "language": "python",
   "name": "python3"
  },
  "language_info": {
   "codemirror_mode": {
    "name": "ipython",
    "version": 3
   },
   "file_extension": ".py",
   "mimetype": "text/x-python",
   "name": "python",
   "nbconvert_exporter": "python",
   "pygments_lexer": "ipython3",
   "version": "3.9.2"
  }
 },
 "nbformat": 4,
 "nbformat_minor": 5
}
